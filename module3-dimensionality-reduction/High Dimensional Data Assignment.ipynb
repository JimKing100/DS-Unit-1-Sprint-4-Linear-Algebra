{
  "nbformat": 4,
  "nbformat_minor": 0,
  "metadata": {
    "colab": {
      "name": "High Dimensional Data Assignment.ipynb",
      "version": "0.3.2",
      "provenance": [],
      "collapsed_sections": []
    },
    "kernelspec": {
      "name": "python3",
      "display_name": "Python 3"
    }
  },
  "cells": [
    {
      "cell_type": "markdown",
      "metadata": {
        "id": "7wMWCkE1RZpM",
        "colab_type": "text"
      },
      "source": [
        "# Vertical Line Test"
      ]
    },
    {
      "cell_type": "markdown",
      "metadata": {
        "id": "W0-g7aprRv2j",
        "colab_type": "text"
      },
      "source": [
        "## 1.1 Create two graphs, one that passes the vertical line test and one that does not."
      ]
    },
    {
      "cell_type": "code",
      "metadata": {
        "id": "fIJhCtF6RW_U",
        "colab_type": "code",
        "outputId": "eb444052-a819-4714-976e-c0f6b77eb649",
        "colab": {
          "base_uri": "https://localhost:8080/",
          "height": 281
        }
      },
      "source": [
        "import matplotlib.pyplot as plt\n",
        "\n",
        "input_vector = [11, 6]\n",
        "\n",
        "# Plot the Vectors\n",
        "plt.arrow(0,0, input_vector[0], input_vector[1],head_width=.05, head_length=0.05, color ='red')\n",
        "plt.xlim(0,11)          \n",
        "plt.ylim(-2,6)\n",
        "plt.title(\"Passes Verical Line Test\")\n",
        "plt.show()"
      ],
      "execution_count": 4,
      "outputs": [
        {
          "output_type": "display_data",
          "data": {
            "image/png": "[encoded data removed]",
            "text/plain": [
              "<Figure size 432x288 with 1 Axes>"
            ]
          },
          "metadata": {
            "tags": []
          }
        }
      ]
    },
    {
      "cell_type": "code",
      "metadata": {
        "id": "ErDDPlKZz5XB",
        "colab_type": "code",
        "outputId": "18160d78-ad4d-419a-9021-153aa2c19821",
        "colab": {
          "base_uri": "https://localhost:8080/",
          "height": 281
        }
      },
      "source": [
        "import matplotlib.pyplot as plt\n",
        "\n",
        "a=[]\n",
        "b=[]\n",
        "\n",
        "for y in range(-10,10,1):\n",
        "    x=1/2*((y-1)**2)+1\n",
        "    a.append(x)\n",
        "    b.append(y)\n",
        "\n",
        "fig= plt.figure()\n",
        "axes=fig.add_subplot(111)\n",
        "axes.plot(a,b)\n",
        "plt.title(\"Fails Vertical Line Test\")\n",
        "plt.show()"
      ],
      "execution_count": 5,
      "outputs": [
        {
          "output_type": "display_data",
          "data": {
            "image/png": "[encoded data removed]",
            "text/plain": [
              "<Figure size 432x288 with 1 Axes>"
            ]
          },
          "metadata": {
            "tags": []
          }
        }
      ]
    },
    {
      "cell_type": "markdown",
      "metadata": {
        "id": "ckeTKqMgRy7g",
        "colab_type": "text"
      },
      "source": [
        "## 1.2 Why are graphs that don't pass the vertical line test not considered \"functions?\""
      ]
    },
    {
      "cell_type": "markdown",
      "metadata": {
        "id": "Gtl20YeDR6x-",
        "colab_type": "text"
      },
      "source": [
        "Two inputs are mapped to the same output."
      ]
    },
    {
      "cell_type": "markdown",
      "metadata": {
        "id": "g21uN62xSKSk",
        "colab_type": "text"
      },
      "source": [
        "# Functions as Relations"
      ]
    },
    {
      "cell_type": "markdown",
      "metadata": {
        "id": "gwkcV-EMSMNd",
        "colab_type": "text"
      },
      "source": [
        "## 2.1 Which of the following relations are functions? Why?\n",
        "\n",
        "\\begin{align}\n",
        "\\text{Relation 1: } \\{(1, 2), (3, 2), (1, 3)\\}\n",
        "\\\\\n",
        "\\text{Relation 2: } \\{(1, 3), (2, 3), (6, 7)\\}\n",
        "\\\\\n",
        "\\text{Relation 3: } \\{(9, 4), (2, 1), (9, 6)\\}\n",
        "\\\\\n",
        "\\text{Relation 4: } \\{(6, 2), (8, 3), (6, 4)\\}\n",
        "\\\\\n",
        "\\text{Relation 5: } \\{(2, 6), (2, 7), (2, 4)\\}\n",
        "\\end{align}"
      ]
    },
    {
      "cell_type": "markdown",
      "metadata": {
        "id": "QxX4cnCX5Ruf",
        "colab_type": "text"
      },
      "source": [
        "Relation 1: No, does not pass vertical line test (1, 2)(1, 3)\n",
        "\n",
        "Relation 2: Yes, it passes the vertical line test\n",
        "\n",
        "Relation 3: No, does not pass the vertical line test (9, 4)(9, 6)\n",
        "\n",
        "Relation 4: No, does not pass the vertical line test (6, 2)(6, 4)\n",
        "\n",
        "Relation 5: No, a vertical line does not pass the vertical line test (2, 6)(2, 7)(2, 4)"
      ]
    },
    {
      "cell_type": "markdown",
      "metadata": {
        "id": "y0U30PrlTAAa",
        "colab_type": "text"
      },
      "source": [
        "# Functions as a mapping between dimensions\n"
      ]
    },
    {
      "cell_type": "markdown",
      "metadata": {
        "id": "pw-OU9qmT5Ua",
        "colab_type": "text"
      },
      "source": [
        "## 3.1 for the following functions what is the dimensionality of the domain (input) and codomain (range/output)?\n",
        "\n",
        "\\begin{align}\n",
        "m(𝑥_1,𝑥_2,𝑥_3)=(x_1+x_2, x_1+x_3, x_2+x_3)\n",
        "\\\\\n",
        "n(𝑥_1,𝑥_2,𝑥_3,𝑥_4)=(x_2^2 + x_3, x_2x_4)\n",
        "\\end{align}"
      ]
    },
    {
      "cell_type": "markdown",
      "metadata": {
        "id": "gZvEU1En9Kbs",
        "colab_type": "text"
      },
      "source": [
        "1) R3 to R3\n",
        "\n",
        "2) R4 to R2"
      ]
    },
    {
      "cell_type": "markdown",
      "metadata": {
        "id": "k4tKHjdHUevC",
        "colab_type": "text"
      },
      "source": [
        "## 3.2 Do you think it's possible to create a function that maps from a lower dimensional space to a higher dimensional space? If so, provide an example."
      ]
    },
    {
      "cell_type": "code",
      "metadata": {
        "id": "jMIW8rEJA8tk",
        "colab_type": "code",
        "outputId": "5ebb3b1e-d7df-4812-d32d-3fe4e6cfc60b",
        "colab": {
          "base_uri": "https://localhost:8080/",
          "height": 281
        }
      },
      "source": [
        "# f(x) = y2\n",
        "\n",
        "import matplotlib.pyplot as plt\n",
        "\n",
        "a=[]\n",
        "b=[]\n",
        "\n",
        "for x in range(-10,10,1):\n",
        "    y=x**2+2*x+2\n",
        "    a.append(x)\n",
        "    b.append(y)\n",
        "\n",
        "fig= plt.figure()\n",
        "axes=fig.add_subplot(111)\n",
        "axes.plot(a,b)\n",
        "plt.title(\"Parabola\")\n",
        "plt.show()\n"
      ],
      "execution_count": 6,
      "outputs": [
        {
          "output_type": "display_data",
          "data": {
            "image/png": "[encoded data removed]",
            "text/plain": [
              "<Figure size 432x288 with 1 Axes>"
            ]
          },
          "metadata": {
            "tags": []
          }
        }
      ]
    },
    {
      "cell_type": "markdown",
      "metadata": {
        "id": "2nEWvwVyVWdW",
        "colab_type": "text"
      },
      "source": [
        "# Vector Transformations"
      ]
    },
    {
      "cell_type": "markdown",
      "metadata": {
        "id": "1n0-6FsYVcVk",
        "colab_type": "text"
      },
      "source": [
        "## 4.1 Plug the corresponding unit vectors into each function. Use the output vectors to create a transformation matrix.\n",
        "\n",
        "\\begin{align}\n",
        "p(\\begin{bmatrix}x_1 \\\\ x_2 \\end{bmatrix}) = \\begin{bmatrix} x_1 + 3x_2 \\\\2 x_2 - x_1 \\\\  \\end{bmatrix}\n",
        "\\\\\n",
        "\\\\\n",
        "q(\\begin{bmatrix}x_1 \\\\ x_2 \\\\ x_3\\end{bmatrix}) = \\begin{bmatrix} 4x_1 + x_2 + 2x_3 \\\\2 x_2 - x_1 + 3x_3 \\\\ 5x_1 - 2x_3 + x_2  \\end{bmatrix}\n",
        "\\end{align}"
      ]
    },
    {
      "cell_type": "markdown",
      "metadata": {
        "id": "XNVE4TarbEVm",
        "colab_type": "text"
      },
      "source": [
        "\\begin{align}\n",
        "T\\begin{bmatrix} 1 \\ 3 \\\\-1 \\ 2 \\\\  \\end{bmatrix}\n",
        "\\\\\n",
        "\\\\\n",
        "T\\begin{bmatrix} 4 \\ 1 \\ 2 \\\\ -1 \\ 2 \\ 3 \\\\ 5 \\ 1 \\ -2  \\end{bmatrix}\n",
        "\\end{align}"
      ]
    },
    {
      "cell_type": "markdown",
      "metadata": {
        "id": "n5HUOQIxZ2gp",
        "colab_type": "text"
      },
      "source": [
        "## 4.2 Verify that your transformation matrices are correct by choosing an input matrix and calculating the result both via the traditional functions above and also via vector-matrix multiplication."
      ]
    },
    {
      "cell_type": "code",
      "metadata": {
        "id": "0UANR1IEaVWE",
        "colab_type": "code",
        "outputId": "f4553eec-96c4-4d45-a329-ab523789d2f9",
        "colab": {
          "base_uri": "https://localhost:8080/",
          "height": 136
        }
      },
      "source": [
        "import numpy as np\n",
        "\n",
        "a = np.matrix([[1, 3], [-1, 2]])\n",
        "b = np.matrix([[3],[4]])\n",
        "\n",
        "c = np.matrix([[4, 1, 2], [-1, 2, 3], [5, 1, -2]])\n",
        "d = np.matrix([[3], [4], [5]])\n",
        "\n",
        "print('a x b')\n",
        "print(a*b)\n",
        "\n",
        "print('c x d')\n",
        "print(c*d)"
      ],
      "execution_count": 7,
      "outputs": [
        {
          "output_type": "stream",
          "text": [
            "a x b\n",
            "[[15]\n",
            " [ 5]]\n",
            "c x d\n",
            "[[26]\n",
            " [20]\n",
            " [ 9]]\n"
          ],
          "name": "stdout"
        }
      ]
    },
    {
      "cell_type": "markdown",
      "metadata": {
        "id": "3NOurRh2j_As",
        "colab_type": "text"
      },
      "source": [
        "\\begin{align}\n",
        "f\\begin{bmatrix} 3 \\\\ 4 \\\\  \\end{bmatrix}\n",
        "=\n",
        "\\begin{bmatrix} 3 + (3x4) = 15 \\\\ (2x4) - 3 = 5 \\\\  \\end{bmatrix}\n",
        "\\\\\n",
        "\\\\\n",
        "f\\begin{bmatrix} 3 \\\\ 4 \\\\ 5\\\\ \\end{bmatrix}\n",
        "=\\begin{bmatrix} (4x3) + 4 + (2x5) = 26\\\\ (-1x3) + (2x4) + (3x5) = 20 \\\\ (5x3) + 4  + (-2x5) =  9  \\end{bmatrix}\n",
        "\\end{align}"
      ]
    },
    {
      "cell_type": "markdown",
      "metadata": {
        "id": "vEoiri3mak7j",
        "colab_type": "text"
      },
      "source": [
        "# Eigenvalues and Eigenvectors"
      ]
    },
    {
      "cell_type": "markdown",
      "metadata": {
        "id": "5HY0R4u7anIr",
        "colab_type": "text"
      },
      "source": [
        "## 5.1 In your own words, give an explanation for the intuition behind eigenvalues and eigenvectors."
      ]
    },
    {
      "cell_type": "markdown",
      "metadata": {
        "id": "DIh02pU-sL6P",
        "colab_type": "text"
      },
      "source": [
        "Eigenvectors and eigenvalues are useful to simplify the manipulation of multi-dimensional space and represent the powerful math behind PCA.\n",
        "\n",
        "Eigenvectors are the main axes which are fixed and eigenvalues represent the scalar for the corresponding eigenvector."
      ]
    },
    {
      "cell_type": "markdown",
      "metadata": {
        "id": "VdehMwBtatKI",
        "colab_type": "text"
      },
      "source": [
        "# The Curse of Dimensionality"
      ]
    },
    {
      "cell_type": "markdown",
      "metadata": {
        "id": "4oVrJax-a3SK",
        "colab_type": "text"
      },
      "source": [
        "## 6.1 What are some of the challenges of working with high dimensional spaces?"
      ]
    },
    {
      "cell_type": "markdown",
      "metadata": {
        "id": "d8ZaaPeRs3Cs",
        "colab_type": "text"
      },
      "source": [
        "We can really only spatially comprehend and represent 3-4 dimensional space, beyond that, n-dimensional space becomes increasingly complex and difficult to understand and manipulate.  Challenges working in n-dimensional space include:  size of data, increased computational workload, and spread of datapoints across larger spaces. "
      ]
    },
    {
      "cell_type": "markdown",
      "metadata": {
        "id": "ZiBJxsZla88c",
        "colab_type": "text"
      },
      "source": [
        "## 6.2 What is the rule of thumb for how many observations you should have compared to parameters in your model?"
      ]
    },
    {
      "cell_type": "markdown",
      "metadata": {
        "id": "CY-WWDyPuaCY",
        "colab_type": "text"
      },
      "source": [
        "At a minimum, at least 5 times the number of observations as parameters (columns, features) in your model."
      ]
    },
    {
      "cell_type": "markdown",
      "metadata": {
        "id": "NZmqdeygbHJx",
        "colab_type": "text"
      },
      "source": [
        "# Principal Component Analysis"
      ]
    },
    {
      "cell_type": "markdown",
      "metadata": {
        "id": "7iEheetpbJdN",
        "colab_type": "text"
      },
      "source": [
        "## 7.1 Load the UCI Machine Learning Repository's [Iris Dataset](https://gist.githubusercontent.com/curran/a08a1080b88344b0c8a7/raw/d546eaee765268bf2f487608c537c05e22e4b221/iris.csv) and use PCA to isolate the dataset's first and second principal components and plot them on a graph. "
      ]
    },
    {
      "cell_type": "code",
      "metadata": {
        "id": "dn1ke7AWu8rU",
        "colab_type": "code",
        "outputId": "66ab16bd-0ebd-489e-d047-15f88686fd8f",
        "colab": {
          "base_uri": "https://localhost:8080/",
          "height": 204
        }
      },
      "source": [
        "# Load the data\n",
        "import pandas as pd\n",
        "\n",
        "iris_data = pd.read_csv('https://gist.githubusercontent.com/curran/a08a1080b88344b0c8a7/raw/d546eaee765268bf2f487608c537c05e22e4b221/iris.csv')\n",
        "iris_data.head()"
      ],
      "execution_count": 8,
      "outputs": [
        {
          "output_type": "execute_result",
          "data": {
            "text/html": [
              "<div>\n",
              "<style scoped>\n",
              "    .dataframe tbody tr th:only-of-type {\n",
              "        vertical-align: middle;\n",
              "    }\n",
              "\n",
              "    .dataframe tbody tr th {\n",
              "        vertical-align: top;\n",
              "    }\n",
              "\n",
              "    .dataframe thead th {\n",
              "        text-align: right;\n",
              "    }\n",
              "</style>\n",
              "<table border=\"1\" class=\"dataframe\">\n",
              "  <thead>\n",
              "    <tr style=\"text-align: right;\">\n",
              "      <th></th>\n",
              "      <th>sepal_length</th>\n",
              "      <th>sepal_width</th>\n",
              "      <th>petal_length</th>\n",
              "      <th>petal_width</th>\n",
              "      <th>species</th>\n",
              "    </tr>\n",
              "  </thead>\n",
              "  <tbody>\n",
              "    <tr>\n",
              "      <th>0</th>\n",
              "      <td>5.1</td>\n",
              "      <td>3.5</td>\n",
              "      <td>1.4</td>\n",
              "      <td>0.2</td>\n",
              "      <td>setosa</td>\n",
              "    </tr>\n",
              "    <tr>\n",
              "      <th>1</th>\n",
              "      <td>4.9</td>\n",
              "      <td>3.0</td>\n",
              "      <td>1.4</td>\n",
              "      <td>0.2</td>\n",
              "      <td>setosa</td>\n",
              "    </tr>\n",
              "    <tr>\n",
              "      <th>2</th>\n",
              "      <td>4.7</td>\n",
              "      <td>3.2</td>\n",
              "      <td>1.3</td>\n",
              "      <td>0.2</td>\n",
              "      <td>setosa</td>\n",
              "    </tr>\n",
              "    <tr>\n",
              "      <th>3</th>\n",
              "      <td>4.6</td>\n",
              "      <td>3.1</td>\n",
              "      <td>1.5</td>\n",
              "      <td>0.2</td>\n",
              "      <td>setosa</td>\n",
              "    </tr>\n",
              "    <tr>\n",
              "      <th>4</th>\n",
              "      <td>5.0</td>\n",
              "      <td>3.6</td>\n",
              "      <td>1.4</td>\n",
              "      <td>0.2</td>\n",
              "      <td>setosa</td>\n",
              "    </tr>\n",
              "  </tbody>\n",
              "</table>\n",
              "</div>"
            ],
            "text/plain": [
              "   sepal_length  sepal_width  petal_length  petal_width species\n",
              "0           5.1          3.5           1.4          0.2  setosa\n",
              "1           4.9          3.0           1.4          0.2  setosa\n",
              "2           4.7          3.2           1.3          0.2  setosa\n",
              "3           4.6          3.1           1.5          0.2  setosa\n",
              "4           5.0          3.6           1.4          0.2  setosa"
            ]
          },
          "metadata": {
            "tags": []
          },
          "execution_count": 8
        }
      ]
    },
    {
      "cell_type": "code",
      "metadata": {
        "id": "3YQJKYdw30k4",
        "colab_type": "code",
        "outputId": "4acfbb56-6dec-4c36-ee70-a6695cda3287",
        "colab": {
          "base_uri": "https://localhost:8080/",
          "height": 34
        }
      },
      "source": [
        "iris_data['species'].unique()"
      ],
      "execution_count": 9,
      "outputs": [
        {
          "output_type": "execute_result",
          "data": {
            "text/plain": [
              "array(['setosa', 'versicolor', 'virginica'], dtype=object)"
            ]
          },
          "metadata": {
            "tags": []
          },
          "execution_count": 9
        }
      ]
    },
    {
      "cell_type": "code",
      "metadata": {
        "id": "h2C79iCgw03s",
        "colab_type": "code",
        "colab": {}
      },
      "source": [
        "# Scale the features\n",
        "from sklearn.preprocessing import StandardScaler\n",
        "\n",
        "features = ['sepal_length', 'sepal_width', 'petal_length', 'petal_width']\n",
        "\n",
        "# Separating out the features\n",
        "x = iris_data.loc[:, features].values\n",
        "\n",
        "# Separating out the target\n",
        "y = iris_data.loc[:,['species']].values\n",
        "\n",
        "# Standardizing the features\n",
        "X = StandardScaler().fit_transform(x)"
      ],
      "execution_count": 0,
      "outputs": []
    },
    {
      "cell_type": "code",
      "metadata": {
        "id": "wy9AZVgZcHLZ",
        "colab_type": "code",
        "outputId": "cc18f221-0b4d-4221-dccc-341076f8c5d1",
        "colab": {
          "base_uri": "https://localhost:8080/",
          "height": 374
        }
      },
      "source": [
        "# Principal Component Analysis\n",
        "# Project the four dimensions to two\n",
        "from numpy import array\n",
        "from sklearn.decomposition import PCA\n",
        "\n",
        "# Create the PCA instance\n",
        "pca = PCA(2)\n",
        "\n",
        "# Fit on data\n",
        "principal_components = pca.fit(X)\n",
        "\n",
        "# Show values and vectors\n",
        "print(\"\\n Eigenvectors: \\n\", principal_components.components_)\n",
        "print(\"\\n Eigenvalues: \\n\",principal_components.explained_variance_)\n",
        "print(\"\\n Explined Variance Ratio: \\n\",principal_components.explained_variance_ratio_)\n",
        "\n",
        "# Transform data\n",
        "B = principal_components.transform(X)\n",
        "\n",
        "# Creat a dataframe of the two principal components\n",
        "principal_data = pd.DataFrame(data = B, columns = ['pc_1', 'pc_2'])\n",
        "principal_data.head()"
      ],
      "execution_count": 11,
      "outputs": [
        {
          "output_type": "stream",
          "text": [
            "\n",
            " Eigenvectors: \n",
            " [[ 0.52237162 -0.26335492  0.58125401  0.56561105]\n",
            " [ 0.37231836  0.92555649  0.02109478  0.06541577]]\n",
            "\n",
            " Eigenvalues: \n",
            " [2.93035378 0.92740362]\n",
            "\n",
            " Explined Variance Ratio: \n",
            " [0.72770452 0.23030523]\n"
          ],
          "name": "stdout"
        },
        {
          "output_type": "execute_result",
          "data": {
            "text/html": [
              "<div>\n",
              "<style scoped>\n",
              "    .dataframe tbody tr th:only-of-type {\n",
              "        vertical-align: middle;\n",
              "    }\n",
              "\n",
              "    .dataframe tbody tr th {\n",
              "        vertical-align: top;\n",
              "    }\n",
              "\n",
              "    .dataframe thead th {\n",
              "        text-align: right;\n",
              "    }\n",
              "</style>\n",
              "<table border=\"1\" class=\"dataframe\">\n",
              "  <thead>\n",
              "    <tr style=\"text-align: right;\">\n",
              "      <th></th>\n",
              "      <th>pc_1</th>\n",
              "      <th>pc_2</th>\n",
              "    </tr>\n",
              "  </thead>\n",
              "  <tbody>\n",
              "    <tr>\n",
              "      <th>0</th>\n",
              "      <td>-2.264542</td>\n",
              "      <td>0.505704</td>\n",
              "    </tr>\n",
              "    <tr>\n",
              "      <th>1</th>\n",
              "      <td>-2.086426</td>\n",
              "      <td>-0.655405</td>\n",
              "    </tr>\n",
              "    <tr>\n",
              "      <th>2</th>\n",
              "      <td>-2.367950</td>\n",
              "      <td>-0.318477</td>\n",
              "    </tr>\n",
              "    <tr>\n",
              "      <th>3</th>\n",
              "      <td>-2.304197</td>\n",
              "      <td>-0.575368</td>\n",
              "    </tr>\n",
              "    <tr>\n",
              "      <th>4</th>\n",
              "      <td>-2.388777</td>\n",
              "      <td>0.674767</td>\n",
              "    </tr>\n",
              "  </tbody>\n",
              "</table>\n",
              "</div>"
            ],
            "text/plain": [
              "       pc_1      pc_2\n",
              "0 -2.264542  0.505704\n",
              "1 -2.086426 -0.655405\n",
              "2 -2.367950 -0.318477\n",
              "3 -2.304197 -0.575368\n",
              "4 -2.388777  0.674767"
            ]
          },
          "metadata": {
            "tags": []
          },
          "execution_count": 11
        }
      ]
    },
    {
      "cell_type": "code",
      "metadata": {
        "id": "LMEzHoNRzed0",
        "colab_type": "code",
        "outputId": "9738e492-5010-42b5-ae52-801d634fcd5a",
        "colab": {
          "base_uri": "https://localhost:8080/",
          "height": 204
        }
      },
      "source": [
        "# Create a final merged dataframe with the components and target\n",
        "merged_data = pd.concat([principal_data, iris_data[['species']]], axis = 1)\n",
        "merged_data.head()"
      ],
      "execution_count": 12,
      "outputs": [
        {
          "output_type": "execute_result",
          "data": {
            "text/html": [
              "<div>\n",
              "<style scoped>\n",
              "    .dataframe tbody tr th:only-of-type {\n",
              "        vertical-align: middle;\n",
              "    }\n",
              "\n",
              "    .dataframe tbody tr th {\n",
              "        vertical-align: top;\n",
              "    }\n",
              "\n",
              "    .dataframe thead th {\n",
              "        text-align: right;\n",
              "    }\n",
              "</style>\n",
              "<table border=\"1\" class=\"dataframe\">\n",
              "  <thead>\n",
              "    <tr style=\"text-align: right;\">\n",
              "      <th></th>\n",
              "      <th>pc_1</th>\n",
              "      <th>pc_2</th>\n",
              "      <th>species</th>\n",
              "    </tr>\n",
              "  </thead>\n",
              "  <tbody>\n",
              "    <tr>\n",
              "      <th>0</th>\n",
              "      <td>-2.264542</td>\n",
              "      <td>0.505704</td>\n",
              "      <td>setosa</td>\n",
              "    </tr>\n",
              "    <tr>\n",
              "      <th>1</th>\n",
              "      <td>-2.086426</td>\n",
              "      <td>-0.655405</td>\n",
              "      <td>setosa</td>\n",
              "    </tr>\n",
              "    <tr>\n",
              "      <th>2</th>\n",
              "      <td>-2.367950</td>\n",
              "      <td>-0.318477</td>\n",
              "      <td>setosa</td>\n",
              "    </tr>\n",
              "    <tr>\n",
              "      <th>3</th>\n",
              "      <td>-2.304197</td>\n",
              "      <td>-0.575368</td>\n",
              "      <td>setosa</td>\n",
              "    </tr>\n",
              "    <tr>\n",
              "      <th>4</th>\n",
              "      <td>-2.388777</td>\n",
              "      <td>0.674767</td>\n",
              "      <td>setosa</td>\n",
              "    </tr>\n",
              "  </tbody>\n",
              "</table>\n",
              "</div>"
            ],
            "text/plain": [
              "       pc_1      pc_2 species\n",
              "0 -2.264542  0.505704  setosa\n",
              "1 -2.086426 -0.655405  setosa\n",
              "2 -2.367950 -0.318477  setosa\n",
              "3 -2.304197 -0.575368  setosa\n",
              "4 -2.388777  0.674767  setosa"
            ]
          },
          "metadata": {
            "tags": []
          },
          "execution_count": 12
        }
      ]
    },
    {
      "cell_type": "code",
      "metadata": {
        "id": "HBPZoj9w2lTr",
        "colab_type": "code",
        "outputId": "8eeef1d5-f52f-4337-9d17-9c041ba3ec26",
        "colab": {
          "base_uri": "https://localhost:8080/",
          "height": 523
        }
      },
      "source": [
        "# Set plot size\n",
        "fig = plt.figure(figsize = (8,8))\n",
        "ax = fig.add_subplot(1,1,1) \n",
        "\n",
        "# Set annotation\n",
        "ax.set_xlabel('Principal Component 1', fontsize = 15)\n",
        "ax.set_ylabel('Principal Component 2', fontsize = 15)\n",
        "ax.set_title('2 component PCA', fontsize = 20)\n",
        "\n",
        "# Set targets to unique species values and match to colors\n",
        "targets = ['setosa', 'versicolor', 'virginica']\n",
        "colors = ['r', 'g', 'b']\n",
        "\n",
        "# For each species, create a scatter plot of PC1 and PC2\n",
        "for target, color in zip(targets, colors):\n",
        "    indicesToKeep = merged_data['species'] == target\n",
        "    ax.scatter(merged_data.loc[indicesToKeep, 'pc_1']\n",
        "               , merged_data.loc[indicesToKeep, 'pc_2']\n",
        "               , c = color\n",
        "               , s = 50)\n",
        "# Plot the legend and grid    \n",
        "ax.legend(targets)\n",
        "ax.grid()"
      ],
      "execution_count": 13,
      "outputs": [
        {
          "output_type": "display_data",
          "data": {
            "image/png": "[encoded data removed]",
            "text/plain": [
              "<Figure size 576x576 with 1 Axes>"
            ]
          },
          "metadata": {
            "tags": []
          }
        }
      ]
    },
    {
      "cell_type": "markdown",
      "metadata": {
        "id": "RQx7UvsucIrL",
        "colab_type": "text"
      },
      "source": [
        "# Stretch Goal\n",
        "\n",
        "## 1) Do NOT work on the stretch goal until you feel like you have a firm grasp of eigenvectors, eigenvalues, and PCA. Prioritize self-study over the stretch goal if you are not comfortable with those topics yet.\n",
        "\n",
        "## 2) Explore further the intuition behind eigenvalues and eigenvectors by creating your very own eigenfaces:\n",
        "\n",
        "<center>![Eigenfaces](https://i.pinimg.com/236x/1c/f1/01/1cf101a9859437a5d096a04b05be06b4--faces-tattoo.jpg)</center>\n",
        "\n",
        "You don't necessarily have to use this resource, but this will get you started: \n",
        "[Eigenface Tutorial](https://sandipanweb.wordpress.com/2018/01/06/eigenfaces-and-a-simple-face-detector-with-pca-svd-in-python/)"
      ]
    },
    {
      "cell_type": "code",
      "metadata": {
        "id": "Aq2u3_Kb3MhY",
        "colab_type": "code",
        "colab": {}
      },
      "source": [
        "# Imports\n",
        "import matplotlib.pyplot as plt\n",
        "\n",
        "from sklearn.datasets import fetch_lfw_people\n",
        "from sklearn.model_selection import train_test_split\n",
        "from sklearn.decomposition import PCA\n",
        "from sklearn.svm import SVC"
      ],
      "execution_count": 0,
      "outputs": []
    },
    {
      "cell_type": "code",
      "metadata": {
        "id": "EHVd3aJHImnm",
        "colab_type": "code",
        "outputId": "bb6dae86-452a-4284-94f2-6f5f02e6ac48",
        "colab": {
          "base_uri": "https://localhost:8080/",
          "height": 176
        }
      },
      "source": [
        "# Load the 'Labeled Faces in the Wild' Face Identification data from scikit-learn.org\n",
        "# Loaded as a Bunch data type, load data into numpy arrays\n",
        "lfw_people = fetch_lfw_people(min_faces_per_person=70, resize=0.4)\n",
        "n_samples, h, w = lfw_people.images.shape\n",
        "\n",
        "print(lfw_people.images.shape)\n",
        "print(type(lfw_people))\n",
        "print(lfw_people.keys())"
      ],
      "execution_count": 15,
      "outputs": [
        {
          "output_type": "stream",
          "text": [
            "Downloading LFW metadata: https://ndownloader.figshare.com/files/5976012\n",
            "Downloading LFW metadata: https://ndownloader.figshare.com/files/5976009\n",
            "Downloading LFW metadata: https://ndownloader.figshare.com/files/5976006\n",
            "Downloading LFW data (~200MB): https://ndownloader.figshare.com/files/5976015\n"
          ],
          "name": "stderr"
        },
        {
          "output_type": "stream",
          "text": [
            "(1288, 50, 37)\n",
            "<class 'sklearn.utils.Bunch'>\n",
            "dict_keys(['data', 'images', 'target', 'target_names', 'DESCR'])\n"
          ],
          "name": "stdout"
        }
      ]
    },
    {
      "cell_type": "code",
      "metadata": {
        "id": "hAw5JYQRuBDQ",
        "colab_type": "code",
        "outputId": "f822f4ab-110f-4e59-9a83-19eeece3a523",
        "colab": {
          "base_uri": "https://localhost:8080/",
          "height": 1000
        }
      },
      "source": [
        "# Details on the data\n",
        "print(lfw_people.DESCR)\n"
      ],
      "execution_count": 16,
      "outputs": [
        {
          "output_type": "stream",
          "text": [
            ".. _labeled_faces_in_the_wild_dataset:\n",
            "\n",
            "The Labeled Faces in the Wild face recognition dataset\n",
            "------------------------------------------------------\n",
            "\n",
            "This dataset is a collection of JPEG pictures of famous people collected\n",
            "over the internet, all details are available on the official website:\n",
            "\n",
            "    http://vis-www.cs.umass.edu/lfw/\n",
            "\n",
            "Each picture is centered on a single face. The typical task is called\n",
            "Face Verification: given a pair of two pictures, a binary classifier\n",
            "must predict whether the two images are from the same person.\n",
            "\n",
            "An alternative task, Face Recognition or Face Identification is:\n",
            "given the picture of the face of an unknown person, identify the name\n",
            "of the person by referring to a gallery of previously seen pictures of\n",
            "identified persons.\n",
            "\n",
            "Both Face Verification and Face Recognition are tasks that are typically\n",
            "performed on the output of a model trained to perform Face Detection. The\n",
            "most popular model for Face Detection is called Viola-Jones and is\n",
            "implemented in the OpenCV library. The LFW faces were extracted by this\n",
            "face detector from various online websites.\n",
            "\n",
            "**Data Set Characteristics:**\n",
            "\n",
            "    =================   =======================\n",
            "    Classes                                5749\n",
            "    Samples total                         13233\n",
            "    Dimensionality                         5828\n",
            "    Features            real, between 0 and 255\n",
            "    =================   =======================\n",
            "\n",
            "Usage\n",
            "~~~~~\n",
            "\n",
            "``scikit-learn`` provides two loaders that will automatically download,\n",
            "cache, parse the metadata files, decode the jpeg and convert the\n",
            "interesting slices into memmapped numpy arrays. This dataset size is more\n",
            "than 200 MB. The first load typically takes more than a couple of minutes\n",
            "to fully decode the relevant part of the JPEG files into numpy arrays. If\n",
            "the dataset has  been loaded once, the following times the loading times\n",
            "less than 200ms by using a memmapped version memoized on the disk in the\n",
            "``~/scikit_learn_data/lfw_home/`` folder using ``joblib``.\n",
            "\n",
            "The first loader is used for the Face Identification task: a multi-class\n",
            "classification task (hence supervised learning)::\n",
            "\n",
            "  >>> from sklearn.datasets import fetch_lfw_people\n",
            "  >>> lfw_people = fetch_lfw_people(min_faces_per_person=70, resize=0.4)\n",
            "\n",
            "  >>> for name in lfw_people.target_names:\n",
            "  ...     print(name)\n",
            "  ...\n",
            "  Ariel Sharon\n",
            "  Colin Powell\n",
            "  Donald Rumsfeld\n",
            "  George W Bush\n",
            "  Gerhard Schroeder\n",
            "  Hugo Chavez\n",
            "  Tony Blair\n",
            "\n",
            "The default slice is a rectangular shape around the face, removing\n",
            "most of the background::\n",
            "\n",
            "  >>> lfw_people.data.dtype\n",
            "  dtype('float32')\n",
            "\n",
            "  >>> lfw_people.data.shape\n",
            "  (1288, 1850)\n",
            "\n",
            "  >>> lfw_people.images.shape\n",
            "  (1288, 50, 37)\n",
            "\n",
            "Each of the ``1140`` faces is assigned to a single person id in the ``target``\n",
            "array::\n",
            "\n",
            "  >>> lfw_people.target.shape\n",
            "  (1288,)\n",
            "\n",
            "  >>> list(lfw_people.target[:10])\n",
            "  [5, 6, 3, 1, 0, 1, 3, 4, 3, 0]\n",
            "\n",
            "The second loader is typically used for the face verification task: each sample\n",
            "is a pair of two picture belonging or not to the same person::\n",
            "\n",
            "  >>> from sklearn.datasets import fetch_lfw_pairs\n",
            "  >>> lfw_pairs_train = fetch_lfw_pairs(subset='train')\n",
            "\n",
            "  >>> list(lfw_pairs_train.target_names)\n",
            "  ['Different persons', 'Same person']\n",
            "\n",
            "  >>> lfw_pairs_train.pairs.shape\n",
            "  (2200, 2, 62, 47)\n",
            "\n",
            "  >>> lfw_pairs_train.data.shape\n",
            "  (2200, 5828)\n",
            "\n",
            "  >>> lfw_pairs_train.target.shape\n",
            "  (2200,)\n",
            "\n",
            "Both for the :func:`sklearn.datasets.fetch_lfw_people` and\n",
            ":func:`sklearn.datasets.fetch_lfw_pairs` function it is\n",
            "possible to get an additional dimension with the RGB color channels by\n",
            "passing ``color=True``, in that case the shape will be\n",
            "``(2200, 2, 62, 47, 3)``.\n",
            "\n",
            "The :func:`sklearn.datasets.fetch_lfw_pairs` datasets is subdivided into\n",
            "3 subsets: the development ``train`` set, the development ``test`` set and\n",
            "an evaluation ``10_folds`` set meant to compute performance metrics using a\n",
            "10-folds cross validation scheme.\n",
            "\n",
            ".. topic:: References:\n",
            "\n",
            " * `Labeled Faces in the Wild: A Database for Studying Face Recognition\n",
            "   in Unconstrained Environments.\n",
            "   <http://vis-www.cs.umass.edu/lfw/lfw.pdf>`_\n",
            "   Gary B. Huang, Manu Ramesh, Tamara Berg, and Erik Learned-Miller.\n",
            "   University of Massachusetts, Amherst, Technical Report 07-49, October, 2007.\n",
            "\n",
            "\n",
            "Examples\n",
            "~~~~~~~~\n",
            "\n",
            ":ref:`sphx_glr_auto_examples_applications_plot_face_recognition.py`\n",
            "\n"
          ],
          "name": "stdout"
        }
      ]
    },
    {
      "cell_type": "code",
      "metadata": {
        "id": "fBAzc_xuLRlT",
        "colab_type": "code",
        "outputId": "9f2ba8f2-764a-4efe-ebe2-63fddfbebc40",
        "colab": {
          "base_uri": "https://localhost:8080/",
          "height": 210
        }
      },
      "source": [
        "# Load the data into X, there are 1,288 samples with 1,850 features\n",
        "X = lfw_people.data\n",
        "n_features = X.shape[1]\n",
        "\n",
        "print(X)\n",
        "print(X.shape)\n",
        "print(n_features)"
      ],
      "execution_count": 17,
      "outputs": [
        {
          "output_type": "stream",
          "text": [
            "[[254.       254.       251.66667  ...  87.333336  88.666664  86.666664]\n",
            " [ 39.666668  50.333332  47.       ... 117.666664 115.       133.66667 ]\n",
            " [ 89.333336 104.       126.       ... 175.33333  183.33333  183.      ]\n",
            " ...\n",
            " [ 86.        80.333336  74.666664 ...  44.        49.666668  44.666668]\n",
            " [ 50.333332  65.666664  88.       ... 197.       179.33333  166.33333 ]\n",
            " [ 30.        27.        32.666668 ...  35.        35.333332  61.      ]]\n",
            "(1288, 1850)\n",
            "1850\n"
          ],
          "name": "stdout"
        }
      ]
    },
    {
      "cell_type": "code",
      "metadata": {
        "id": "KivF-THwMP8j",
        "colab_type": "code",
        "outputId": "d6152d7e-0a61-494d-ad87-d08777e95b6d",
        "colab": {
          "base_uri": "https://localhost:8080/",
          "height": 102
        }
      },
      "source": [
        "# Load the target faces, each assigned to a single person id in the target, 7 targets\n",
        "y = lfw_people.target\n",
        "target_names = lfw_people.target_names\n",
        "n_classes = target_names.shape[0]\n",
        "\n",
        "print(y)\n",
        "print(y.shape)\n",
        "print(target_names)\n",
        "print(n_classes)"
      ],
      "execution_count": 18,
      "outputs": [
        {
          "output_type": "stream",
          "text": [
            "[5 6 3 ... 5 3 5]\n",
            "(1288,)\n",
            "['Ariel Sharon' 'Colin Powell' 'Donald Rumsfeld' 'George W Bush'\n",
            " 'Gerhard Schroeder' 'Hugo Chavez' 'Tony Blair']\n",
            "7\n"
          ],
          "name": "stdout"
        }
      ]
    },
    {
      "cell_type": "code",
      "metadata": {
        "id": "JslDEhpmNORl",
        "colab_type": "code",
        "colab": {}
      },
      "source": [
        "# Use train_test_split to split data into random train and test subsets\n",
        "# test_size = 25% of the data, random_state is the seed\n",
        "X_train, X_test, y_train, y_test = train_test_split(\n",
        "    X, y, test_size=0.25, random_state=42)"
      ],
      "execution_count": 0,
      "outputs": []
    },
    {
      "cell_type": "code",
      "metadata": {
        "id": "qVuZIf4ONX9L",
        "colab_type": "code",
        "outputId": "46c81c22-6e0f-43c7-976a-9f47aebe18fe",
        "colab": {
          "base_uri": "https://localhost:8080/",
          "height": 51
        }
      },
      "source": [
        "# Principal Component Analysis\n",
        "# Project the 966 dimensions to 150\n",
        "n_components = 150\n",
        "\n",
        "print(\"Extracting the top %d eigenfaces from %d faces\"\n",
        "      % (n_components, X_train.shape[0]))\n",
        "\n",
        "pca = PCA(n_components=n_components, svd_solver='randomized',\n",
        "          whiten=True).fit(X_train)\n",
        "\n",
        "eigenfaces = pca.components_.reshape((n_components, h, w))\n",
        "\n",
        "print(\"Projecting the input data on the eigenfaces orthonormal basis\")\n",
        "X_train_pca = pca.transform(X_train)\n",
        "X_test_pca = pca.transform(X_test)"
      ],
      "execution_count": 20,
      "outputs": [
        {
          "output_type": "stream",
          "text": [
            "Extracting the top 150 eigenfaces from 966 faces\n",
            "Projecting the input data on the eigenfaces orthonormal basis\n"
          ],
          "name": "stdout"
        }
      ]
    },
    {
      "cell_type": "code",
      "metadata": {
        "id": "ObbdhDPE35dJ",
        "colab_type": "code",
        "colab": {
          "base_uri": "https://localhost:8080/",
          "height": 705
        },
        "outputId": "25632617-6947-4bfe-c758-1df1ae3b3bf9"
      },
      "source": [
        "# Function to plot original photos and eigenfaces\n",
        "def plot_gallery(images, titles, h, w, n_row=2, n_col=4):\n",
        "\n",
        "    plt.figure(figsize=(1.8 * n_col, 2.4 * n_row))\n",
        "    plt.subplots_adjust(bottom=0, left=.01, right=.99, top=.90, hspace=.35)\n",
        "    for i in range(n_row * n_col):\n",
        "        plt.subplot(n_row, n_col, i + 1)\n",
        "        plt.imshow(images[i].reshape((h, w)), cmap=plt.cm.gray)\n",
        "        plt.title(titles[i], size=12)\n",
        "        plt.xticks(())\n",
        "        plt.yticks(())\n",
        "        \n",
        "def title(y_test, target_names, i):\n",
        "    true_name = target_names[y_test[i]]\n",
        "    return true_name\n",
        "\n",
        "picture_titles = [title(y_test, target_names, i)\n",
        "                  for i in range(y_test.shape[0])] \n",
        "      \n",
        "plot_gallery(X_test, picture_titles, h, w)     \n",
        "\n",
        "eigenface_titles = [\"eigenface %d\" % i for i in range(eigenfaces.shape[0])]\n",
        "plot_gallery(eigenfaces, eigenface_titles, h, w)\n",
        "\n",
        "plt.show()\n"
      ],
      "execution_count": 21,
      "outputs": [
        {
          "output_type": "display_data",
          "data": {
            "image/png": "[encoded data removed]",
            "text/plain": [
              "<Figure size 518.4x345.6 with 8 Axes>"
            ]
          },
          "metadata": {
            "tags": []
          }
        },
        {
          "output_type": "display_data",
          "data": {
            "image/png": "[encoded data removed]",
            "text/plain": [
              "<Figure size 518.4x345.6 with 8 Axes>"
            ]
          },
          "metadata": {
            "tags": []
          }
        }
      ]
    },
    {
      "cell_type": "markdown",
      "metadata": {
        "id": "K9zn6mX88t3q",
        "colab_type": "text"
      },
      "source": [
        "### Convert a .jpg Photo to Grayscale"
      ]
    },
    {
      "cell_type": "code",
      "metadata": {
        "id": "_JVGeBa43sP0",
        "colab_type": "code",
        "colab": {}
      },
      "source": [
        "from PIL import Image\n",
        "\n",
        "img = Image.open('/content/Al_Gore_0002.jpg')\n",
        "img.save('/grayscale.jpg')"
      ],
      "execution_count": 0,
      "outputs": []
    },
    {
      "cell_type": "code",
      "metadata": {
        "id": "tNNv1OFkfRmW",
        "colab_type": "code",
        "outputId": "be6cbf9e-1eb4-4a80-d541-57a03dd9a460",
        "colab": {
          "base_uri": "https://localhost:8080/",
          "height": 269
        }
      },
      "source": [
        "import numpy as np\n",
        "import matplotlib.pyplot as plt\n",
        "import matplotlib.image as mpimg\n",
        "\n",
        "def rgb2gray(rgb):\n",
        "    return np.dot(rgb[...,:3], [0.299, 0.587, 0.144])\n",
        "\n",
        "img = mpimg.imread('/content/Al_Gore_0002.jpg')\n",
        "\n",
        "gray = rgb2gray(img)\n",
        "\n",
        "plt.imshow(gray, cmap = plt.get_cmap('gray'))\n",
        "\n",
        "plt.savefig('Al_Gore_grayscale')\n",
        "plt.show()"
      ],
      "execution_count": 23,
      "outputs": [
        {
          "output_type": "display_data",
          "data": {
            "image/png": "[encoded data removed]",
            "text/plain": [
              "<Figure size 432x288 with 1 Axes>"
            ]
          },
          "metadata": {
            "tags": []
          }
        }
      ]
    },
    {
      "cell_type": "code",
      "metadata": {
        "id": "uGPjszMEflUO",
        "colab_type": "code",
        "outputId": "af0db01c-7b07-40ad-d72d-82cdd851f840",
        "colab": {
          "base_uri": "https://localhost:8080/",
          "height": 153
        }
      },
      "source": [
        "print(gray)\n",
        "gray.shape"
      ],
      "execution_count": 24,
      "outputs": [
        {
          "output_type": "stream",
          "text": [
            "[[ 2.016  2.016  2.016 ...  2.171  2.171  2.171]\n",
            " [ 1.783  1.783  0.897 ...  1.794  1.794  2.093]\n",
            " [37.245 37.245 36.359 ... 40.844 42.627 42.627]\n",
            " ...\n",
            " [13.966 16.026 22.206 ... 22.073 24.133 29.427]\n",
            " [23.236 20.146 20.146 ... 18.983 21.043 34.433]\n",
            " [26.326 22.206 21.176 ... 14.863 22.073 35.751]]\n"
          ],
          "name": "stdout"
        },
        {
          "output_type": "execute_result",
          "data": {
            "text/plain": [
              "(250, 250)"
            ]
          },
          "metadata": {
            "tags": []
          },
          "execution_count": 24
        }
      ]
    }
  ]
}